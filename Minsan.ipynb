{
 "cells": [
  {
   "cell_type": "markdown",
   "id": "c94e0bf6-de5e-4075-bb9f-92a45610d00e",
   "metadata": {},
   "source": [
    "## Product Clustering"
   ]
  },
  {
   "cell_type": "code",
   "execution_count": 1,
   "id": "c381bd66-9ebd-4891-b1ea-b00a77815880",
   "metadata": {},
   "outputs": [],
   "source": [
    "import pandas as pd\n",
    "import numpy as np"
   ]
  },
  {
   "cell_type": "code",
   "execution_count": 2,
   "id": "8f2b6999-793a-46d2-b198-bfebbdfe60ed",
   "metadata": {},
   "outputs": [],
   "source": [
    "data_inventory=pd.read_csv('Inventory.csv', sep=',')\n",
    "data_sales=pd.read_csv('Sales.csv', sep=',')\n",
    "data_minprices=pd.read_csv('MinPrices.csv', sep=',')"
   ]
  },
  {
   "cell_type": "markdown",
   "id": "c476806d-0567-438c-83ff-3a0e93f8e2b2",
   "metadata": {},
   "source": [
    "## Data cleaning"
   ]
  },
  {
   "cell_type": "markdown",
   "id": "e613ca12-5cdc-4166-a98e-146f5fd8677a",
   "metadata": {},
   "source": [
    "- Checking the shape of the dataset and to see there is any negative or zero number for price."
   ]
  },
  {
   "cell_type": "code",
   "execution_count": 3,
   "id": "475b814b-37b7-41d7-ad44-427f77b9a322",
   "metadata": {},
   "outputs": [
    {
     "name": "stdout",
     "output_type": "stream",
     "text": [
      "Data inventory shape is : (374871, 4)\n"
     ]
    },
    {
     "data": {
      "text/html": [
       "<div>\n",
       "<style scoped>\n",
       "    .dataframe tbody tr th:only-of-type {\n",
       "        vertical-align: middle;\n",
       "    }\n",
       "\n",
       "    .dataframe tbody tr th {\n",
       "        vertical-align: top;\n",
       "    }\n",
       "\n",
       "    .dataframe thead th {\n",
       "        text-align: right;\n",
       "    }\n",
       "</style>\n",
       "<table border=\"1\" class=\"dataframe\">\n",
       "  <thead>\n",
       "    <tr style=\"text-align: right;\">\n",
       "      <th></th>\n",
       "      <th>pharm</th>\n",
       "      <th>minsan</th>\n",
       "      <th>price</th>\n",
       "      <th>quan</th>\n",
       "    </tr>\n",
       "  </thead>\n",
       "  <tbody>\n",
       "    <tr>\n",
       "      <th>217148</th>\n",
       "      <td>F18</td>\n",
       "      <td>M45559</td>\n",
       "      <td>1.50</td>\n",
       "      <td>1</td>\n",
       "    </tr>\n",
       "    <tr>\n",
       "      <th>32436</th>\n",
       "      <td>F10</td>\n",
       "      <td>M6139</td>\n",
       "      <td>4.92</td>\n",
       "      <td>2</td>\n",
       "    </tr>\n",
       "  </tbody>\n",
       "</table>\n",
       "</div>"
      ],
      "text/plain": [
       "       pharm  minsan  price  quan\n",
       "217148   F18  M45559   1.50     1\n",
       "32436    F10   M6139   4.92     2"
      ]
     },
     "execution_count": 3,
     "metadata": {},
     "output_type": "execute_result"
    }
   ],
   "source": [
    "print(\"Data inventory shape is :\", data_inventory.shape)\n",
    "data_inventory.sample(2)"
   ]
  },
  {
   "cell_type": "code",
   "execution_count": 4,
   "id": "14ccebe5-8690-4976-afda-685ba8633ecc",
   "metadata": {},
   "outputs": [
    {
     "data": {
      "text/html": [
       "<div>\n",
       "<style scoped>\n",
       "    .dataframe tbody tr th:only-of-type {\n",
       "        vertical-align: middle;\n",
       "    }\n",
       "\n",
       "    .dataframe tbody tr th {\n",
       "        vertical-align: top;\n",
       "    }\n",
       "\n",
       "    .dataframe thead th {\n",
       "        text-align: right;\n",
       "    }\n",
       "</style>\n",
       "<table border=\"1\" class=\"dataframe\">\n",
       "  <thead>\n",
       "    <tr style=\"text-align: right;\">\n",
       "      <th></th>\n",
       "      <th>pharm</th>\n",
       "      <th>minsan</th>\n",
       "      <th>price</th>\n",
       "      <th>quan</th>\n",
       "    </tr>\n",
       "  </thead>\n",
       "  <tbody>\n",
       "    <tr>\n",
       "      <th>1</th>\n",
       "      <td>F1</td>\n",
       "      <td>M2</td>\n",
       "      <td>-23.00</td>\n",
       "      <td>1</td>\n",
       "    </tr>\n",
       "    <tr>\n",
       "      <th>57</th>\n",
       "      <td>F1</td>\n",
       "      <td>M58</td>\n",
       "      <td>0.00</td>\n",
       "      <td>1</td>\n",
       "    </tr>\n",
       "    <tr>\n",
       "      <th>288968</th>\n",
       "      <td>F23</td>\n",
       "      <td>M34921</td>\n",
       "      <td>-16.54</td>\n",
       "      <td>1</td>\n",
       "    </tr>\n",
       "  </tbody>\n",
       "</table>\n",
       "</div>"
      ],
      "text/plain": [
       "       pharm  minsan  price  quan\n",
       "1         F1      M2 -23.00     1\n",
       "57        F1     M58   0.00     1\n",
       "288968   F23  M34921 -16.54     1"
      ]
     },
     "execution_count": 4,
     "metadata": {},
     "output_type": "execute_result"
    }
   ],
   "source": [
    "data_inventory[data_inventory['price']<=0]"
   ]
  },
  {
   "cell_type": "markdown",
   "id": "122932a9-17ce-4d6d-a495-f200404972e2",
   "metadata": {},
   "source": [
    "- Dropping the rows with zero or negative prices in data inventory."
   ]
  },
  {
   "cell_type": "code",
   "execution_count": 5,
   "id": "0416fe64-4298-4a9d-97d4-309489ed9dc7",
   "metadata": {},
   "outputs": [],
   "source": [
    "data_inventory.drop(data_inventory.index[data_inventory['price'] <= 0], inplace = True)"
   ]
  },
  {
   "cell_type": "code",
   "execution_count": 6,
   "id": "958590d8-3ec3-42ed-be05-c0a2fcad9496",
   "metadata": {},
   "outputs": [
    {
     "data": {
      "text/plain": [
       "(374868, 4)"
      ]
     },
     "execution_count": 6,
     "metadata": {},
     "output_type": "execute_result"
    }
   ],
   "source": [
    "data_inventory.shape"
   ]
  },
  {
   "cell_type": "markdown",
   "id": "3c842ee3-b198-4955-862f-6f3b93e320dc",
   "metadata": {},
   "source": [
    "- Checking null values in each column"
   ]
  },
  {
   "cell_type": "code",
   "execution_count": 7,
   "id": "8498bfb6-dfe4-4bd9-9af7-1be0be8c97c5",
   "metadata": {},
   "outputs": [
    {
     "data": {
      "text/plain": [
       "pharm     0\n",
       "minsan    0\n",
       "price     0\n",
       "quan      0\n",
       "dtype: int64"
      ]
     },
     "execution_count": 7,
     "metadata": {},
     "output_type": "execute_result"
    }
   ],
   "source": [
    "data_inventory.isnull().sum()"
   ]
  },
  {
   "cell_type": "markdown",
   "id": "0be5488b-73c5-4f32-8494-1b65a98b0d42",
   "metadata": {},
   "source": [
    "- Dropping rows with duplicates"
   ]
  },
  {
   "cell_type": "code",
   "execution_count": 8,
   "id": "444bcc85-ec91-4448-ab2a-7547e8b868ae",
   "metadata": {},
   "outputs": [],
   "source": [
    "data_inventory=data_inventory.drop_duplicates(['pharm', 'minsan'], keep='last')"
   ]
  },
  {
   "cell_type": "code",
   "execution_count": 9,
   "id": "cfe1ed20-9d4c-4d9f-8726-4f93278cf6d7",
   "metadata": {},
   "outputs": [
    {
     "name": "stdout",
     "output_type": "stream",
     "text": [
      "Final shape for data inventory is : (374864, 4)\n"
     ]
    }
   ],
   "source": [
    "print(\"Final shape for data inventory is :\", data_inventory.shape)"
   ]
  },
  {
   "cell_type": "code",
   "execution_count": 10,
   "id": "777726ba-6824-4205-ba00-1914ae1fae44",
   "metadata": {},
   "outputs": [
    {
     "name": "stdout",
     "output_type": "stream",
     "text": [
      "Data sales shape is : (3923, 4)\n"
     ]
    },
    {
     "data": {
      "text/html": [
       "<div>\n",
       "<style scoped>\n",
       "    .dataframe tbody tr th:only-of-type {\n",
       "        vertical-align: middle;\n",
       "    }\n",
       "\n",
       "    .dataframe tbody tr th {\n",
       "        vertical-align: top;\n",
       "    }\n",
       "\n",
       "    .dataframe thead th {\n",
       "        text-align: right;\n",
       "    }\n",
       "</style>\n",
       "<table border=\"1\" class=\"dataframe\">\n",
       "  <thead>\n",
       "    <tr style=\"text-align: right;\">\n",
       "      <th></th>\n",
       "      <th>minsan</th>\n",
       "      <th>qty</th>\n",
       "      <th>revenue</th>\n",
       "      <th>transactions</th>\n",
       "    </tr>\n",
       "  </thead>\n",
       "  <tbody>\n",
       "    <tr>\n",
       "      <th>2116</th>\n",
       "      <td>M4181</td>\n",
       "      <td>1.0</td>\n",
       "      <td>17.32</td>\n",
       "      <td>1</td>\n",
       "    </tr>\n",
       "    <tr>\n",
       "      <th>140</th>\n",
       "      <td>M131</td>\n",
       "      <td>1.0</td>\n",
       "      <td>15.87</td>\n",
       "      <td>1</td>\n",
       "    </tr>\n",
       "  </tbody>\n",
       "</table>\n",
       "</div>"
      ],
      "text/plain": [
       "     minsan  qty  revenue  transactions\n",
       "2116  M4181  1.0    17.32             1\n",
       "140    M131  1.0    15.87             1"
      ]
     },
     "execution_count": 10,
     "metadata": {},
     "output_type": "execute_result"
    }
   ],
   "source": [
    "print(\"Data sales shape is :\", data_sales.shape)\n",
    "data_sales.sample(2)"
   ]
  },
  {
   "cell_type": "code",
   "execution_count": 11,
   "id": "a68273c2-39ac-440c-8bdd-0ba1c77a8f48",
   "metadata": {},
   "outputs": [
    {
     "data": {
      "text/plain": [
       "minsan          0\n",
       "qty             2\n",
       "revenue         2\n",
       "transactions    0\n",
       "dtype: int64"
      ]
     },
     "execution_count": 11,
     "metadata": {},
     "output_type": "execute_result"
    }
   ],
   "source": [
    "data_sales.isnull().sum()"
   ]
  },
  {
   "cell_type": "markdown",
   "id": "11e396a5-1290-4ac6-a1f3-f59a28ecb6a5",
   "metadata": {},
   "source": [
    "- Dropping rows with null values."
   ]
  },
  {
   "cell_type": "code",
   "execution_count": 12,
   "id": "4a29fb2f-3a09-478a-a730-b6e289dafcc9",
   "metadata": {},
   "outputs": [],
   "source": [
    "data_sales=data_sales.dropna(subset=['qty', 'revenue'])"
   ]
  },
  {
   "cell_type": "code",
   "execution_count": 13,
   "id": "4f26c92b-5c8c-4148-bd3c-01f3e26ac5be",
   "metadata": {},
   "outputs": [
    {
     "data": {
      "text/plain": [
       "(3919, 4)"
      ]
     },
     "execution_count": 13,
     "metadata": {},
     "output_type": "execute_result"
    }
   ],
   "source": [
    "data_sales.shape"
   ]
  },
  {
   "cell_type": "markdown",
   "id": "065dbb1b-0b91-4b48-9c61-e57d78b3b3a6",
   "metadata": {},
   "source": [
    "- Since a product can be sold on many channels, sum of revenue, sum of quantity and sum of transaction are calculated."
   ]
  },
  {
   "cell_type": "code",
   "execution_count": 14,
   "id": "f12bb256-d722-482e-8af6-00042ff5ae8a",
   "metadata": {},
   "outputs": [],
   "source": [
    "data_sales=data_sales.groupby('minsan').agg({'revenue': 'sum', 'qty': 'sum', 'transactions': 'sum'}).reset_index()"
   ]
  },
  {
   "cell_type": "code",
   "execution_count": 15,
   "id": "3f66fc16-1bed-42ae-8b07-ac3cbabe7a9e",
   "metadata": {},
   "outputs": [
    {
     "data": {
      "text/plain": [
       "(2915, 4)"
      ]
     },
     "execution_count": 15,
     "metadata": {},
     "output_type": "execute_result"
    }
   ],
   "source": [
    "data_sales.shape"
   ]
  },
  {
   "cell_type": "code",
   "execution_count": 16,
   "id": "961cbd7d-9537-4919-afda-5151b4d821f1",
   "metadata": {},
   "outputs": [
    {
     "name": "stdout",
     "output_type": "stream",
     "text": [
      "Data minPrice shape is : (81318, 2)\n"
     ]
    },
    {
     "data": {
      "text/html": [
       "<div>\n",
       "<style scoped>\n",
       "    .dataframe tbody tr th:only-of-type {\n",
       "        vertical-align: middle;\n",
       "    }\n",
       "\n",
       "    .dataframe tbody tr th {\n",
       "        vertical-align: top;\n",
       "    }\n",
       "\n",
       "    .dataframe thead th {\n",
       "        text-align: right;\n",
       "    }\n",
       "</style>\n",
       "<table border=\"1\" class=\"dataframe\">\n",
       "  <thead>\n",
       "    <tr style=\"text-align: right;\">\n",
       "      <th></th>\n",
       "      <th>minsan</th>\n",
       "      <th>minPrice</th>\n",
       "    </tr>\n",
       "  </thead>\n",
       "  <tbody>\n",
       "    <tr>\n",
       "      <th>19092</th>\n",
       "      <td>M29381</td>\n",
       "      <td>4.06</td>\n",
       "    </tr>\n",
       "    <tr>\n",
       "      <th>15189</th>\n",
       "      <td>M25773</td>\n",
       "      <td>19.77</td>\n",
       "    </tr>\n",
       "  </tbody>\n",
       "</table>\n",
       "</div>"
      ],
      "text/plain": [
       "       minsan  minPrice\n",
       "19092  M29381      4.06\n",
       "15189  M25773     19.77"
      ]
     },
     "execution_count": 16,
     "metadata": {},
     "output_type": "execute_result"
    }
   ],
   "source": [
    "print(\"Data minPrice shape is :\", data_minprices.shape)\n",
    "data_minprices.sample(2)"
   ]
  },
  {
   "cell_type": "markdown",
   "id": "4285c3c9-2e9d-4c7a-9fab-bb5a9bcb3d15",
   "metadata": {},
   "source": [
    "- There is more than one min price in minprice dataset for 5 minsan. In this regard, I consider the minimum price and drop the greater one."
   ]
  },
  {
   "cell_type": "code",
   "execution_count": 17,
   "id": "4c75762a-9139-48b8-ae41-bb3c01010433",
   "metadata": {},
   "outputs": [],
   "source": [
    "check=data_minprices.groupby('minsan')['minPrice'].nunique().reset_index()"
   ]
  },
  {
   "cell_type": "code",
   "execution_count": 18,
   "id": "89ebcf13-ea20-4b0f-b2fc-3c5f0c802dcc",
   "metadata": {},
   "outputs": [
    {
     "data": {
      "text/plain": [
       "1    81307\n",
       "2        5\n",
       "Name: minPrice, dtype: int64"
      ]
     },
     "execution_count": 18,
     "metadata": {},
     "output_type": "execute_result"
    }
   ],
   "source": [
    "check.minPrice.value_counts()"
   ]
  },
  {
   "cell_type": "code",
   "execution_count": 19,
   "id": "bff83d7a-0371-47c7-b277-d63aa7b6b511",
   "metadata": {},
   "outputs": [],
   "source": [
    "data_minprices=data_minprices.groupby('minsan')['minPrice'].min().reset_index()"
   ]
  },
  {
   "cell_type": "code",
   "execution_count": 20,
   "id": "160ab0d8-c750-480d-8985-f0f1755431ec",
   "metadata": {},
   "outputs": [
    {
     "data": {
      "text/plain": [
       "(81312, 2)"
      ]
     },
     "execution_count": 20,
     "metadata": {},
     "output_type": "execute_result"
    }
   ],
   "source": [
    "data_minprices.shape"
   ]
  },
  {
   "cell_type": "code",
   "execution_count": 21,
   "id": "ad500a8d-32b4-4f60-be87-0e32dad75c1f",
   "metadata": {},
   "outputs": [
    {
     "data": {
      "text/plain": [
       "(29, 2)"
      ]
     },
     "execution_count": 21,
     "metadata": {},
     "output_type": "execute_result"
    }
   ],
   "source": [
    "(data_minprices[data_minprices['minPrice']<=0]).shape"
   ]
  },
  {
   "cell_type": "markdown",
   "id": "13d43ca8-7712-48e2-a2a0-7e51f8eea571",
   "metadata": {},
   "source": [
    "- Droping the rows with zero and negative price amount."
   ]
  },
  {
   "cell_type": "code",
   "execution_count": 22,
   "id": "907d2ca1-7214-4b67-850d-57ff13de2a01",
   "metadata": {},
   "outputs": [],
   "source": [
    "data_minprices.drop(data_minprices.index[data_minprices['minPrice'] <= 0], inplace = True)"
   ]
  },
  {
   "cell_type": "code",
   "execution_count": 23,
   "id": "e764d527-d782-4b4c-ad77-4428247bdbf3",
   "metadata": {},
   "outputs": [
    {
     "data": {
      "text/plain": [
       "minsan      0\n",
       "minPrice    0\n",
       "dtype: int64"
      ]
     },
     "execution_count": 23,
     "metadata": {},
     "output_type": "execute_result"
    }
   ],
   "source": [
    "data_minprices.isnull().sum()"
   ]
  },
  {
   "cell_type": "code",
   "execution_count": 24,
   "id": "2adb5e05-4a56-4458-9249-adc37867f0d6",
   "metadata": {},
   "outputs": [
    {
     "name": "stdout",
     "output_type": "stream",
     "text": [
      "Sale shape:  (2915, 4)\n",
      "Inventory shape:  (374864, 4)\n",
      "Min price shape:  (81283, 2)\n"
     ]
    }
   ],
   "source": [
    "print(\"Sale shape: \",data_sales.shape)\n",
    "print(\"Inventory shape: \",data_inventory.shape)\n",
    "print(\"Min price shape: \",data_minprices.shape)"
   ]
  },
  {
   "cell_type": "markdown",
   "id": "a539efa7-6fab-426c-926d-981a726eb74f",
   "metadata": {},
   "source": [
    "## Joining tables"
   ]
  },
  {
   "cell_type": "markdown",
   "id": "84317a21-62ff-4e66-a948-d48854cdb375",
   "metadata": {},
   "source": [
    "- In this section the average amount of revenue for each product and the difference change of average price from its minimum price will be calculated."
   ]
  },
  {
   "cell_type": "code",
   "execution_count": 25,
   "id": "72eb401f-bd67-48ff-b80e-cc6f7df799fa",
   "metadata": {},
   "outputs": [],
   "source": [
    "R=data_sales.groupby('minsan')['revenue'].mean().reset_index(name='Ave.Revenue')"
   ]
  },
  {
   "cell_type": "code",
   "execution_count": 26,
   "id": "aef0514f-c67d-4a52-b3f3-419f30a426a1",
   "metadata": {},
   "outputs": [],
   "source": [
    "p=pd.merge(data_inventory, data_minprices, on='minsan', how='left')"
   ]
  },
  {
   "cell_type": "code",
   "execution_count": 27,
   "id": "cebc387b-724d-40a3-98ed-5f0eb232c58d",
   "metadata": {},
   "outputs": [
    {
     "name": "stdout",
     "output_type": "stream",
     "text": [
      "(374864, 5)\n"
     ]
    },
    {
     "data": {
      "text/html": [
       "<div>\n",
       "<style scoped>\n",
       "    .dataframe tbody tr th:only-of-type {\n",
       "        vertical-align: middle;\n",
       "    }\n",
       "\n",
       "    .dataframe tbody tr th {\n",
       "        vertical-align: top;\n",
       "    }\n",
       "\n",
       "    .dataframe thead th {\n",
       "        text-align: right;\n",
       "    }\n",
       "</style>\n",
       "<table border=\"1\" class=\"dataframe\">\n",
       "  <thead>\n",
       "    <tr style=\"text-align: right;\">\n",
       "      <th></th>\n",
       "      <th>pharm</th>\n",
       "      <th>minsan</th>\n",
       "      <th>price</th>\n",
       "      <th>quan</th>\n",
       "      <th>minPrice</th>\n",
       "    </tr>\n",
       "  </thead>\n",
       "  <tbody>\n",
       "    <tr>\n",
       "      <th>308539</th>\n",
       "      <td>F24</td>\n",
       "      <td>M32709</td>\n",
       "      <td>19.8</td>\n",
       "      <td>11</td>\n",
       "      <td>17.03</td>\n",
       "    </tr>\n",
       "  </tbody>\n",
       "</table>\n",
       "</div>"
      ],
      "text/plain": [
       "       pharm  minsan  price  quan  minPrice\n",
       "308539   F24  M32709   19.8    11     17.03"
      ]
     },
     "execution_count": 27,
     "metadata": {},
     "output_type": "execute_result"
    }
   ],
   "source": [
    "print(p.shape)\n",
    "p.sample(1)"
   ]
  },
  {
   "cell_type": "code",
   "execution_count": 28,
   "id": "050a35c6-1297-43e0-a337-09c2d82c7057",
   "metadata": {},
   "outputs": [
    {
     "data": {
      "text/plain": [
       "pharm           0\n",
       "minsan          0\n",
       "price           0\n",
       "quan            0\n",
       "minPrice    12493\n",
       "dtype: int64"
      ]
     },
     "execution_count": 28,
     "metadata": {},
     "output_type": "execute_result"
    }
   ],
   "source": [
    "p.isnull().sum()"
   ]
  },
  {
   "cell_type": "code",
   "execution_count": 29,
   "id": "56b2297f-b13c-41d4-a631-b76486005bb3",
   "metadata": {},
   "outputs": [],
   "source": [
    "p=p.dropna(subset=['minPrice'])"
   ]
  },
  {
   "cell_type": "markdown",
   "id": "1990dc6a-dbff-4fe3-8800-fe1dced38408",
   "metadata": {},
   "source": [
    "- Average price of each product"
   ]
  },
  {
   "cell_type": "code",
   "execution_count": 30,
   "id": "e73cfa6c-cf98-47a1-b71a-222c7c99153f",
   "metadata": {},
   "outputs": [],
   "source": [
    "p_Avg=p.groupby('minsan')['price'].mean().reset_index(name='Avg_Price')"
   ]
  },
  {
   "cell_type": "code",
   "execution_count": 31,
   "id": "794ee5ff-b1e0-4473-930b-493a91f1a45b",
   "metadata": {},
   "outputs": [],
   "source": [
    "aa=pd.merge(p_Avg, p, on='minsan', how='left')"
   ]
  },
  {
   "cell_type": "markdown",
   "id": "6773025a-1387-4545-ac60-ee2fd30e8ec9",
   "metadata": {},
   "source": [
    "- difference change of average price from its minimum price for each product"
   ]
  },
  {
   "cell_type": "code",
   "execution_count": 32,
   "id": "c8cad0ac-0fa6-4cd0-8e58-ed006b399bfa",
   "metadata": {},
   "outputs": [],
   "source": [
    "aa['Price_Difference_change']=(aa['Avg_Price']-aa['minPrice'])/aa['minPrice']"
   ]
  },
  {
   "cell_type": "code",
   "execution_count": 33,
   "id": "5c2cb821-dde1-411b-a8a8-b4cddc3fede3",
   "metadata": {},
   "outputs": [],
   "source": [
    "f=pd.merge(aa, R, on='minsan', how='inner')"
   ]
  },
  {
   "cell_type": "code",
   "execution_count": 34,
   "id": "9c4f1490-52e8-454e-b8ed-da3f97d81057",
   "metadata": {},
   "outputs": [
    {
     "data": {
      "text/plain": [
       "minsan                     0\n",
       "Avg_Price                  0\n",
       "pharm                      0\n",
       "price                      0\n",
       "quan                       0\n",
       "minPrice                   0\n",
       "Price_Difference_change    0\n",
       "Ave.Revenue                0\n",
       "dtype: int64"
      ]
     },
     "execution_count": 34,
     "metadata": {},
     "output_type": "execute_result"
    }
   ],
   "source": [
    "f.isnull().sum()"
   ]
  },
  {
   "cell_type": "code",
   "execution_count": 35,
   "id": "c313a3f2-8ada-4fe2-a973-ef65573d79c0",
   "metadata": {},
   "outputs": [],
   "source": [
    "f=f.drop_duplicates(['minsan', 'Avg_Price', 'minPrice', 'Price_Difference_change', 'Ave.Revenue'], keep='last')"
   ]
  },
  {
   "cell_type": "code",
   "execution_count": 36,
   "id": "c9b6fff1-285c-4c64-ab16-bbdb87ff6740",
   "metadata": {},
   "outputs": [],
   "source": [
    "cols=f[['Price_Difference_change', 'Ave.Revenue']]"
   ]
  },
  {
   "cell_type": "markdown",
   "id": "82c9c21c-6a1a-492e-8b41-e18cfd4d0946",
   "metadata": {},
   "source": [
    "## Clustering"
   ]
  },
  {
   "cell_type": "markdown",
   "id": "04203a84-d366-40d9-8e74-d6ab0fee45e5",
   "metadata": {},
   "source": [
    "- K-means clustering is implemented"
   ]
  },
  {
   "cell_type": "code",
   "execution_count": 37,
   "id": "f75f7cd6-ff34-4ab8-b17b-f64eefc43bd4",
   "metadata": {},
   "outputs": [],
   "source": [
    "import pandas as pd\n",
    "import numpy as np\n",
    "import matplotlib.pyplot as plt\n",
    "\n",
    "from sklearn.cluster import KMeans\n",
    "from sklearn.preprocessing import StandardScaler, normalize\n",
    "from sklearn.metrics import silhouette_score"
   ]
  },
  {
   "cell_type": "code",
   "execution_count": 38,
   "id": "506ca3a4-81c2-423c-b814-e653077fa89b",
   "metadata": {},
   "outputs": [],
   "source": [
    "# Standardize data\n",
    "scaler = StandardScaler() \n",
    "scaled_df = scaler.fit_transform(cols) "
   ]
  },
  {
   "cell_type": "code",
   "execution_count": 39,
   "id": "1820deaa-aad9-42e5-b91a-28f9669e8ff6",
   "metadata": {},
   "outputs": [],
   "source": [
    "# Normalizing the Data \n",
    "normalized_df = normalize(scaled_df) "
   ]
  },
  {
   "cell_type": "code",
   "execution_count": 40,
   "id": "5e150858-ae2d-4de4-9032-7c04602062d7",
   "metadata": {},
   "outputs": [],
   "source": [
    "# Converting the numpy array into a pandas DataFrame \n",
    "normalized_df = pd.DataFrame(normalized_df) \n",
    "normalized_df.columns = ['P1', 'P2'] "
   ]
  },
  {
   "cell_type": "markdown",
   "id": "f4e1efaf-7def-418e-a62e-f6d206387556",
   "metadata": {},
   "source": [
    "- In this task the number of clusters have been determined, but we can also see the optimal number of clusters"
   ]
  },
  {
   "cell_type": "code",
   "execution_count": 41,
   "id": "ff0c6424-5e66-415f-8c7f-ab814fbfd7d4",
   "metadata": {},
   "outputs": [
    {
     "data": {
      "image/png": "[encoded data removed]",
      "text/plain": [
       "<Figure size 432x288 with 1 Axes>"
      ]
     },
     "metadata": {
      "needs_background": "light"
     },
     "output_type": "display_data"
    }
   ],
   "source": [
    "sse = {}\n",
    "for k in range(1, 10):\n",
    "    kmeans = KMeans(n_clusters=k, max_iter=1000).fit(normalized_df)\n",
    "    sse[k] = kmeans.inertia_ # Inertia: Sum of distances of samples to their closest cluster center\n",
    "plt.figure()\n",
    "plt.plot(list(sse.keys()), list(sse.values()))\n",
    "plt.xlabel(\"Number of cluster\")\n",
    "plt.ylabel(\"SSE\")\n",
    "plt.show()"
   ]
  },
  {
   "cell_type": "code",
   "execution_count": 42,
   "id": "6933178e-664f-43f8-9958-266c067a120b",
   "metadata": {},
   "outputs": [
    {
     "data": {
      "image/png": "[encoded data removed]",
      "text/plain": [
       "<Figure size 432x288 with 1 Axes>"
      ]
     },
     "metadata": {
      "needs_background": "light"
     },
     "output_type": "display_data"
    }
   ],
   "source": [
    "silhouette_scores = [] \n",
    "\n",
    "for n_cluster in range(2, 8):\n",
    "    silhouette_scores.append( \n",
    "        silhouette_score(normalized_df, KMeans(n_clusters = n_cluster).fit_predict(normalized_df))) \n",
    "    \n",
    "# Plotting a bar graph to compare the results \n",
    "k = [2, 3, 4, 5, 6,7] \n",
    "plt.bar(k, silhouette_scores) \n",
    "plt.xlabel('Number of clusters', fontsize = 10) \n",
    "plt.ylabel('Silhouette Score', fontsize = 10) \n",
    "plt.show() "
   ]
  },
  {
   "cell_type": "code",
   "execution_count": 43,
   "id": "df7bbe6e-5912-46a8-94bc-51c483c1d9bc",
   "metadata": {},
   "outputs": [
    {
     "data": {
      "text/plain": [
       "KMeans(n_clusters=5)"
      ]
     },
     "execution_count": 43,
     "metadata": {},
     "output_type": "execute_result"
    }
   ],
   "source": [
    "kmeans = KMeans(n_clusters=5)\n",
    "kmeans.fit(normalized_df)"
   ]
  },
  {
   "cell_type": "code",
   "execution_count": 44,
   "id": "7475d784-0016-472a-b5d2-784dcb4fcb66",
   "metadata": {},
   "outputs": [
    {
     "data": {
      "image/png": "[encoded data removed]",
      "text/plain": [
       "<Figure size 576x432 with 1 Axes>"
      ]
     },
     "metadata": {
      "needs_background": "light"
     },
     "output_type": "display_data"
    }
   ],
   "source": [
    "# Visualizing the clustering \n",
    "plt.figure(figsize=(8,6))\n",
    "\n",
    "plt.title(\"K-means Clustering for Minsans\", bbox={'facecolor':'0.8', 'pad':5}, fontsize=20)\n",
    "plt.scatter(normalized_df['P1'], normalized_df['P2'], s=10, \n",
    "           c = KMeans(n_clusters = 5).fit_predict(normalized_df), cmap =plt.cm.winter)\n",
    "plt.xlabel('Price Difference change', fontsize=15);\n",
    "plt.xticks(fontsize= 13)\n",
    "plt.ylabel('Average Revenue', fontsize=15);\n",
    "plt.yticks(fontsize= 13)\n",
    "plt.show() "
   ]
  },
  {
   "cell_type": "code",
   "execution_count": 45,
   "id": "fc57f7c4-4d6b-4f6a-9189-88bf50b0da9e",
   "metadata": {},
   "outputs": [
    {
     "data": {
      "image/png": "[encoded data removed]",
      "text/plain": [
       "<Figure size 432x288 with 1 Axes>"
      ]
     },
     "metadata": {
      "needs_background": "light"
     },
     "output_type": "display_data"
    }
   ],
   "source": [
    "h = .01     \n",
    "\n",
    "x_min, x_max = normalized_df['P1'].min() - 1, normalized_df['P1'].max() + 1\n",
    "y_min, y_max = normalized_df['P2'].min() - 1, normalized_df['P2'].max() + 1\n",
    "xx, yy = np.meshgrid(np.arange(x_min, x_max, h), np.arange(y_min, y_max, h))\n",
    "\n",
    "Z = kmeans.predict(np.array(list(zip(xx.ravel(), yy.ravel()))))\n",
    "\n",
    "Z = Z.reshape(xx.shape)\n",
    "plt.figure(1)\n",
    "\n",
    "plt.clf()\n",
    "plt.imshow(Z, interpolation='nearest',\n",
    "           extent=(xx.min(), xx.max(), yy.min(), yy.max()),\n",
    "           cmap=plt.cm.winter,\n",
    "           aspect='auto', origin='lower')\n",
    "\n",
    "plt.plot(normalized_df['P1'], normalized_df['P2'], 'k.', markersize=2)\n",
    "\n",
    "centroids = kmeans.cluster_centers_\n",
    "plt.scatter(centroids[:, 0], centroids[:, 1],\n",
    "            marker='o', s=10, linewidths=3,\n",
    "            color='w', zorder=10)\n",
    "plt.title('K-means clustering on the Minsans\\n'\n",
    "          'Centroids are marked with white circle', bbox={'facecolor':'0.8', 'pad':5}, fontsize=14)\n",
    "plt.xlim(x_min, x_max)\n",
    "plt.ylim(y_min, y_max)\n",
    "plt.xlabel('Price Difference change', fontsize=15);\n",
    "plt.xticks(fontsize= 13)\n",
    "plt.ylabel('Average Revenue', fontsize=15);\n",
    "plt.yticks(fontsize= 13)\n",
    "plt.show()"
   ]
  },
  {
   "cell_type": "markdown",
   "id": "a6d5a72f-14ac-4710-9a7a-5701c33f8263",
   "metadata": {},
   "source": [
    "In this clustering after feature engineering two features have been considered. first the average revenue of each product and then the price difference change of each average product from its minimum price. When the revenue of the product is high it worth to push the adverstiment for that product. on the other hand when the average price of the product is more close to the minimum price, it means the price is already competitive and probably there is no need to put budget for advertisement. \n",
    "\n",
    "- The bright green cluster that has low revenue and low price difference change, we can stop advertisement on this cluster because the price is competitive and the revenue is low. \n",
    "- The dark green part which has medium revenue and low price difference, we can continue advertisement as we are doing now. \n",
    "- Bright blue part with medium price difference and high revenue worth to assign budget for more advertisement.\n",
    "- The darker blue cluster needs to push advertisement, because the revenue and price difference is high. \n",
    "- Dark blue part keep advertisement as it is doing now because the price is high and the revenue is low."
   ]
  }
 ],
 "metadata": {
  "kernelspec": {
   "display_name": "datascience_3.7",
   "language": "python",
   "name": "datascience_3.7"
  },
  "language_info": {
   "codemirror_mode": {
    "name": "ipython",
    "version": 3
   },
   "file_extension": ".py",
   "mimetype": "text/x-python",
   "name": "python",
   "nbconvert_exporter": "python",
   "pygments_lexer": "ipython3",
   "version": "3.7.9"
  }
 },
 "nbformat": 4,
 "nbformat_minor": 5
}
